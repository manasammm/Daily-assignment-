{
  "nbformat": 4,
  "nbformat_minor": 0,
  "metadata": {
    "colab": {
      "provenance": [],
      "authorship_tag": "ABX9TyPAtDwNYZaKjckZrIBtfZ2g",
      "include_colab_link": true
    },
    "kernelspec": {
      "name": "python3",
      "display_name": "Python 3"
    },
    "language_info": {
      "name": "python"
    }
  },
  "cells": [
    {
      "cell_type": "markdown",
      "metadata": {
        "id": "view-in-github",
        "colab_type": "text"
      },
      "source": [
        "<a href=\"https://colab.research.google.com/github/manasammm/Daily-assignment-/blob/main/Assignment%20day3.ipynb\" target=\"_parent\"><img src=\"https://colab.research.google.com/assets/colab-badge.svg\" alt=\"Open In Colab\"/></a>"
      ]
    },
    {
      "cell_type": "code",
      "execution_count": 1,
      "metadata": {
        "colab": {
          "base_uri": "https://localhost:8080/"
        },
        "id": "DAw3N4k8LPNg",
        "outputId": "bc05013d-baa6-4469-8431-1465eeed0364"
      },
      "outputs": [
        {
          "output_type": "stream",
          "name": "stdout",
          "text": [
            "Function: f(x) = 3*x**2 - 2*x - 5\n",
            "Derivative: f'(x) = 6*x - 2\n",
            "Derivative at x = 2: 10\n"
          ]
        }
      ],
      "source": [
        "from sympy import symbols, diff\n",
        "\n",
        "x = symbols('x')\n",
        "f_x = 3*x**2 - 2*x - 5\n",
        "der_x = diff(f_x, x)\n",
        "\n",
        "x_point = 2\n",
        "der_at_point = der_x.subs(x, x_point)\n",
        "\n",
        "print(f\"Function: f(x) = {f_x}\")\n",
        "print(f\"Derivative: f'(x) = {der_x}\")\n",
        "print(f\"Derivative at x = {x_point}: {der_at_point}\")"
      ]
    },
    {
      "cell_type": "code",
      "source": [
        "heads = 60\n",
        "tails = 40\n",
        "total_flips = heads + tails\n",
        "prob_heads = heads / total_flips\n",
        "prob_tails = tails / total_flips\n",
        "print(f\"Probability of heads: {prob_heads}\")\n",
        "print(f\"Probability of tails: {prob_tails}\")\n",
        "\n",
        "p_disease = 0.01\n",
        "p_no_disease = 1 - p_disease\n",
        "p_pos_given_disease = 0.99\n",
        "p_pos_given_no_disease = 0.05\n",
        "p_positive = (p_pos_given_disease * p_disease) + (p_pos_given_no_disease * p_no_disease)\n",
        "p_disease_given_positive = (p_pos_given_disease * p_disease) / p_positive\n",
        "print(f\"Probability of disease given positive test: {p_disease_given_positive}\")"
      ],
      "metadata": {
        "colab": {
          "base_uri": "https://localhost:8080/"
        },
        "id": "VfZPgyMdLVqu",
        "outputId": "f2e88de4-3238-4c50-bd3b-8b7c44583513"
      },
      "execution_count": 2,
      "outputs": [
        {
          "output_type": "stream",
          "name": "stdout",
          "text": [
            "Probability of heads: 0.6\n",
            "Probability of tails: 0.4\n",
            "Probability of disease given positive test: 0.16666666666666669\n"
          ]
        }
      ]
    }
  ]
}